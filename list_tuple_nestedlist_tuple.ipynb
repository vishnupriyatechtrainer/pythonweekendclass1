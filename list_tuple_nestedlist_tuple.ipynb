{
 "cells": [
  {
   "cell_type": "code",
   "execution_count": null,
   "id": "fe8512d3-b652-41e4-8196-54e0eee2e720",
   "metadata": {},
   "outputs": [],
   "source": [
    "list - array  - [] - index position"
   ]
  },
  {
   "cell_type": "code",
   "execution_count": null,
   "id": "f1bd4e01-62d4-4c1a-afe4-a15937769dae",
   "metadata": {},
   "outputs": [],
   "source": [
    "collection of items "
   ]
  },
  {
   "cell_type": "code",
   "execution_count": null,
   "id": "b9c39956-d449-498a-9aee-16383ae61fa2",
   "metadata": {},
   "outputs": [],
   "source": [
    "list = [] - collection of same or different datatypes , ordered, duplicate numbers"
   ]
  },
  {
   "cell_type": "code",
   "execution_count": 1,
   "id": "7abe7159-3748-4f56-b362-e01f3b722a80",
   "metadata": {},
   "outputs": [
    {
     "name": "stdout",
     "output_type": "stream",
     "text": [
      "[10, 20, 30, 40, 50, 60, 70, 80, 90, 100]\n",
      "10\n",
      "<class 'list'>\n"
     ]
    }
   ],
   "source": [
    "a=[10,20,30,40,50,60,70,80,90,100]\n",
    "\n",
    "print(a)\n",
    "print(len(a))\n",
    "print(type(a))"
   ]
  },
  {
   "cell_type": "code",
   "execution_count": 2,
   "id": "3047afb7-38ba-44e2-b1e2-607722d204d2",
   "metadata": {},
   "outputs": [
    {
     "name": "stdout",
     "output_type": "stream",
     "text": [
      "['bob', 3.4, 4, 'smith']\n",
      "4\n",
      "<class 'list'>\n"
     ]
    }
   ],
   "source": [
    "a=['bob',3.4,4,'smith']\n",
    "\n",
    "print(a)\n",
    "print(len(a))\n",
    "print(type(a))"
   ]
  },
  {
   "cell_type": "code",
   "execution_count": 6,
   "id": "56e369bf-7d1a-4efc-8177-8e7ffd31abfe",
   "metadata": {},
   "outputs": [
    {
     "name": "stdout",
     "output_type": "stream",
     "text": [
      "50\n",
      "4.5\n",
      "[30, 40, 50]\n"
     ]
    }
   ],
   "source": [
    "a=[10,20,30,40,50,60,70,80,90,100,'hi',\"hello\",4.5]\n",
    "#  0  1   2  3  4  5  6  7 8   9\n",
    "\n",
    "print(a[4])\n",
    "\n",
    "\n",
    "print(a[-1])\n",
    "\n",
    "\n",
    "print(a[2:5])"
   ]
  },
  {
   "cell_type": "code",
   "execution_count": 7,
   "id": "5fa3bc49-51d4-4409-8c31-98f4cb6add4b",
   "metadata": {},
   "outputs": [
    {
     "data": {
      "text/plain": [
       "[10, 20, 40, 50, 60]"
      ]
     },
     "execution_count": 7,
     "metadata": {},
     "output_type": "execute_result"
    }
   ],
   "source": [
    "a=[10,20,40,50,60]\n",
    "\n",
    "a"
   ]
  },
  {
   "cell_type": "code",
   "execution_count": 8,
   "id": "d123c470-3947-4037-8f9e-f859cccb14a2",
   "metadata": {},
   "outputs": [
    {
     "name": "stdout",
     "output_type": "stream",
     "text": [
      "[10, 20, 5, 50, 60]\n"
     ]
    }
   ],
   "source": [
    "a[2] = 5\n",
    "\n",
    "print(a)"
   ]
  },
  {
   "cell_type": "code",
   "execution_count": 9,
   "id": "f5d82236-66ae-49de-89a3-3770db449e06",
   "metadata": {},
   "outputs": [
    {
     "name": "stdout",
     "output_type": "stream",
     "text": [
      "[0, 1, 2, 3, 4, 5, 6, 7, 8, 9]\n"
     ]
    }
   ],
   "source": [
    "a=list(range(0,10))\n",
    "\n",
    "print(a)"
   ]
  },
  {
   "cell_type": "code",
   "execution_count": 11,
   "id": "9b1cc303-2c1e-4d97-b6a1-b2b2684748c0",
   "metadata": {},
   "outputs": [
    {
     "name": "stdout",
     "output_type": "stream",
     "text": [
      "mr/mrs bob\n",
      "mr/mrs smith\n",
      "mr/mrs john\n",
      "mr/mrs paul\n"
     ]
    }
   ],
   "source": [
    "a=[\"bob\",\"smith\",\"john\",\"paul\"]\n",
    "\n",
    "for i in a:\n",
    "    print('mr/mrs',i)"
   ]
  },
  {
   "cell_type": "code",
   "execution_count": 12,
   "id": "4c7b2cec-c435-499e-b53e-7e3b847ab2f9",
   "metadata": {},
   "outputs": [
    {
     "name": "stdout",
     "output_type": "stream",
     "text": [
      "[70, 80, 90, 100, 'hi', 'hello']\n"
     ]
    }
   ],
   "source": [
    "a=[10,20,30,40,50,60,70,80,90,100,'hi',\"hello\",4.5]\n",
    "print(a[-7:-1])"
   ]
  },
  {
   "cell_type": "code",
   "execution_count": 13,
   "id": "ecd74d62-bfa5-4fcd-af63-7765f424bedc",
   "metadata": {},
   "outputs": [
    {
     "name": "stdout",
     "output_type": "stream",
     "text": [
      "[]\n"
     ]
    }
   ],
   "source": [
    "print(a[-1:-7])"
   ]
  },
  {
   "cell_type": "code",
   "execution_count": 14,
   "id": "fb4c6965-0e7b-4278-8485-a009befec691",
   "metadata": {},
   "outputs": [
    {
     "data": {
      "text/plain": [
       "['__add__',\n",
       " '__class__',\n",
       " '__class_getitem__',\n",
       " '__contains__',\n",
       " '__delattr__',\n",
       " '__delitem__',\n",
       " '__dir__',\n",
       " '__doc__',\n",
       " '__eq__',\n",
       " '__format__',\n",
       " '__ge__',\n",
       " '__getattribute__',\n",
       " '__getitem__',\n",
       " '__getstate__',\n",
       " '__gt__',\n",
       " '__hash__',\n",
       " '__iadd__',\n",
       " '__imul__',\n",
       " '__init__',\n",
       " '__init_subclass__',\n",
       " '__iter__',\n",
       " '__le__',\n",
       " '__len__',\n",
       " '__lt__',\n",
       " '__mul__',\n",
       " '__ne__',\n",
       " '__new__',\n",
       " '__reduce__',\n",
       " '__reduce_ex__',\n",
       " '__repr__',\n",
       " '__reversed__',\n",
       " '__rmul__',\n",
       " '__setattr__',\n",
       " '__setitem__',\n",
       " '__sizeof__',\n",
       " '__str__',\n",
       " '__subclasshook__',\n",
       " 'append',\n",
       " 'clear',\n",
       " 'copy',\n",
       " 'count',\n",
       " 'extend',\n",
       " 'index',\n",
       " 'insert',\n",
       " 'pop',\n",
       " 'remove',\n",
       " 'reverse',\n",
       " 'sort']"
      ]
     },
     "execution_count": 14,
     "metadata": {},
     "output_type": "execute_result"
    }
   ],
   "source": [
    "dir(list)"
   ]
  },
  {
   "cell_type": "code",
   "execution_count": 15,
   "id": "67eb93cb-2fbd-4aa4-8ff8-43dcd38afeb2",
   "metadata": {},
   "outputs": [
    {
     "name": "stdout",
     "output_type": "stream",
     "text": [
      "[1, 2, 3, 4, 5, 6]\n"
     ]
    }
   ],
   "source": [
    "a=[1,2,3,4,5] # append - add value in the end of the list\n",
    "\n",
    "a.append(6)\n",
    "\n",
    "print(a)\n"
   ]
  },
  {
   "cell_type": "code",
   "execution_count": 16,
   "id": "737091c3-cfda-4c36-b738-1d668737db4c",
   "metadata": {},
   "outputs": [
    {
     "name": "stdout",
     "output_type": "stream",
     "text": [
      "[]\n"
     ]
    }
   ],
   "source": [
    "a=[10,20,30,40,50,60]\n",
    "\n",
    "a.clear()\n",
    "\n",
    "print(a)"
   ]
  },
  {
   "cell_type": "code",
   "execution_count": 17,
   "id": "c0f44a01-0cd9-46f8-867e-f6ffc11db1cf",
   "metadata": {},
   "outputs": [
    {
     "name": "stdout",
     "output_type": "stream",
     "text": [
      "[10, 20, 30, 40, 50, 60, 70, 80, 67]\n",
      "[10, 20, 30, 40, 50, 60, 70, 80, 67]\n"
     ]
    }
   ],
   "source": [
    "a=[10,20,30,40,50,60,70,80]\n",
    "\n",
    "b=a\n",
    "\n",
    "b.append(67)\n",
    "\n",
    "print(a)\n",
    "print(b)\n",
    "\n"
   ]
  },
  {
   "cell_type": "code",
   "execution_count": 18,
   "id": "7410aa31-0b6b-4ba0-ba8f-f5635cbfc504",
   "metadata": {},
   "outputs": [
    {
     "name": "stdout",
     "output_type": "stream",
     "text": [
      "[10, 20, 30, 40, 50, 60, 70, 80]\n",
      "[10, 20, 30, 40, 50, 60, 70, 80, 67]\n"
     ]
    }
   ],
   "source": [
    "a=[10,20,30,40,50,60,70,80]\n",
    "\n",
    "b=a.copy()\n",
    "\n",
    "b.append(67)\n",
    "\n",
    "print(a)\n",
    "print(b)\n",
    "\n"
   ]
  },
  {
   "cell_type": "code",
   "execution_count": 20,
   "id": "3f06942e-6c35-4d0c-8cf1-ba38529af927",
   "metadata": {},
   "outputs": [
    {
     "data": {
      "text/plain": [
       "3"
      ]
     },
     "execution_count": 20,
     "metadata": {},
     "output_type": "execute_result"
    }
   ],
   "source": [
    "a=[10,20,40,50,60,30,40,40,60,70]\n",
    "\n",
    "a.count(40)\n",
    "\n"
   ]
  },
  {
   "cell_type": "code",
   "execution_count": 21,
   "id": "e901fc8f-a9fc-4178-b3db-94d49a3e5d8a",
   "metadata": {},
   "outputs": [
    {
     "name": "stdout",
     "output_type": "stream",
     "text": [
      "[1, 2, 3, 4, 5, 2, 3, 4, 5]\n"
     ]
    }
   ],
   "source": [
    "a=[1,2,3,4,5]\n",
    "\n",
    "b=[2,3,4,5]\n",
    "\n",
    "a.extend(b)\n",
    "\n",
    "print(a)"
   ]
  },
  {
   "cell_type": "code",
   "execution_count": 24,
   "id": "b8dd37a3-6b02-47b9-b44c-2e780a963bda",
   "metadata": {},
   "outputs": [
    {
     "data": {
      "text/plain": [
       "2"
      ]
     },
     "execution_count": 24,
     "metadata": {},
     "output_type": "execute_result"
    }
   ],
   "source": [
    "a=[10,30,50,60,70,80,50]\n",
    "\n",
    "a.index(50)\n",
    "\n"
   ]
  },
  {
   "cell_type": "code",
   "execution_count": 23,
   "id": "c9d7559f-da26-45f8-82d1-e81085900ac8",
   "metadata": {},
   "outputs": [
    {
     "name": "stdout",
     "output_type": "stream",
     "text": [
      "[10, 20, 30, 40, 60, 70, 80]\n"
     ]
    }
   ],
   "source": [
    "a=[10,20,40,60,70,80]\n",
    "a.insert(2,30)\n",
    "print(a)\n"
   ]
  },
  {
   "cell_type": "code",
   "execution_count": 25,
   "id": "602e298a-77b2-4ec5-a68f-756a7b1b95ec",
   "metadata": {},
   "outputs": [
    {
     "data": {
      "text/plain": [
       "[10, 20, 40, 60, 70]"
      ]
     },
     "execution_count": 25,
     "metadata": {},
     "output_type": "execute_result"
    }
   ],
   "source": [
    "a=[10,20,40,60,70,80]\n",
    "\n",
    "a.pop()\n",
    "\n",
    "a"
   ]
  },
  {
   "cell_type": "code",
   "execution_count": 26,
   "id": "1fb78e3d-e663-4755-abe6-65325c3fcac8",
   "metadata": {},
   "outputs": [
    {
     "data": {
      "text/plain": [
       "[10, 20, 30, 60, 70]"
      ]
     },
     "execution_count": 26,
     "metadata": {},
     "output_type": "execute_result"
    }
   ],
   "source": [
    "a=[10,20,30,40,60,70]\n",
    "\n",
    "a.remove(40)\n",
    "\n",
    "a"
   ]
  },
  {
   "cell_type": "code",
   "execution_count": 27,
   "id": "ef6b99e8-46f4-48eb-b787-af2fff212613",
   "metadata": {},
   "outputs": [
    {
     "data": {
      "text/plain": [
       "[2, 34, 5, 7, 8]"
      ]
     },
     "execution_count": 27,
     "metadata": {},
     "output_type": "execute_result"
    }
   ],
   "source": [
    "a=[2,34,5,6,7,8]\n",
    "b=a[3]\n",
    "\n",
    "a.remove(b)\n",
    "a"
   ]
  },
  {
   "cell_type": "code",
   "execution_count": 29,
   "id": "ab313f5e-15b7-4a83-8553-b7196a37f18a",
   "metadata": {},
   "outputs": [
    {
     "data": {
      "text/plain": [
       "[5, 6, 10, 204, 607, 8789, 780979]"
      ]
     },
     "execution_count": 29,
     "metadata": {},
     "output_type": "execute_result"
    }
   ],
   "source": [
    "a=[10,204,5,6,607,780979,8789]\n",
    "\n",
    "a.sort()  # small to big , a to z\n",
    "a"
   ]
  },
  {
   "cell_type": "code",
   "execution_count": 30,
   "id": "f92a2f9c-8a40-42f4-be66-c546bd6cb19b",
   "metadata": {},
   "outputs": [
    {
     "data": {
      "text/plain": [
       "[780979, 8789, 607, 204, 10, 6, 5]"
      ]
     },
     "execution_count": 30,
     "metadata": {},
     "output_type": "execute_result"
    }
   ],
   "source": [
    "a.sort(reverse=True) \n",
    "a"
   ]
  },
  {
   "cell_type": "code",
   "execution_count": 33,
   "id": "daef2d35-663d-4f40-a7c0-aede0e0f716b",
   "metadata": {},
   "outputs": [
    {
     "data": {
      "text/plain": [
       "4"
      ]
     },
     "execution_count": 33,
     "metadata": {},
     "output_type": "execute_result"
    }
   ],
   "source": [
    "a = [10,20,30,40,10]\n",
    "\n",
    "b= a.index(10)\n",
    "\n",
    "c= a.index(10,b+1)\n",
    "\n",
    "c"
   ]
  },
  {
   "cell_type": "code",
   "execution_count": 34,
   "id": "dbfee169-6526-447d-840b-657516b33315",
   "metadata": {},
   "outputs": [
    {
     "ename": "ValueError",
     "evalue": "10 is not in list",
     "output_type": "error",
     "traceback": [
      "\u001b[1;31m--------------------------------------------------------------------------\u001b[0m",
      "\u001b[1;31mValueError\u001b[0m                               Traceback (most recent call last)",
      "Cell \u001b[1;32mIn[34], line 5\u001b[0m\n\u001b[0;32m      1\u001b[0m a \u001b[38;5;241m=\u001b[39m [\u001b[38;5;241m10\u001b[39m,\u001b[38;5;241m20\u001b[39m,\u001b[38;5;241m30\u001b[39m,\u001b[38;5;241m40\u001b[39m]\n\u001b[0;32m      3\u001b[0m b\u001b[38;5;241m=\u001b[39m a\u001b[38;5;241m.\u001b[39mindex(\u001b[38;5;241m10\u001b[39m)\n\u001b[1;32m----> 5\u001b[0m c\u001b[38;5;241m=\u001b[39m a\u001b[38;5;241m.\u001b[39mindex(\u001b[38;5;241m10\u001b[39m,b\u001b[38;5;241m+\u001b[39m\u001b[38;5;241m1\u001b[39m)\n\u001b[0;32m      7\u001b[0m c\n",
      "\u001b[1;31mValueError\u001b[0m: 10 is not in list"
     ]
    }
   ],
   "source": [
    "a = [10,20,30,40]\n",
    "\n",
    "b= a.index(10)\n",
    "\n",
    "c= a.index(10,b+1)\n",
    "\n",
    "c"
   ]
  },
  {
   "cell_type": "code",
   "execution_count": 35,
   "id": "0f9f8436-9596-4844-bd1c-9744bfa4376f",
   "metadata": {},
   "outputs": [
    {
     "name": "stdout",
     "output_type": "stream",
     "text": [
      "[10]\n"
     ]
    }
   ],
   "source": [
    "a=[]\n",
    "\n",
    "a.append(10)\n",
    "\n",
    "print(a)"
   ]
  },
  {
   "cell_type": "code",
   "execution_count": 36,
   "id": "c4846b25-70d7-47ca-87c1-7d87f04ee484",
   "metadata": {},
   "outputs": [
    {
     "name": "stdin",
     "output_type": "stream",
     "text": [
      "enter the value to insert in a 67\n"
     ]
    },
    {
     "name": "stdout",
     "output_type": "stream",
     "text": [
      "[67]\n"
     ]
    }
   ],
   "source": [
    "a=[]\n",
    "\n",
    "b=int(input('enter the value to insert in a'))\n",
    "\n",
    "a.append(b)\n",
    "\n",
    "print(a)\n"
   ]
  },
  {
   "cell_type": "code",
   "execution_count": 37,
   "id": "62451e83-b21f-4848-a4ac-2962f771d713",
   "metadata": {},
   "outputs": [
    {
     "name": "stdin",
     "output_type": "stream",
     "text": [
      "enter the value to add in the list 1\n",
      "enter the value to add in the list 2\n",
      "enter the value to add in the list 3\n",
      "enter the value to add in the list 4\n",
      "enter the value to add in the list 5\n"
     ]
    },
    {
     "name": "stdout",
     "output_type": "stream",
     "text": [
      "[1, 2, 3, 4, 5]\n"
     ]
    }
   ],
   "source": [
    "a=[]\n",
    "\n",
    "for i in range(5):\n",
    "    b=int(input('enter the value to add in the list'))\n",
    "    a.append(b)\n",
    "print(a)"
   ]
  },
  {
   "cell_type": "code",
   "execution_count": 38,
   "id": "14200e21-359a-4697-a3b5-2097bef83a7b",
   "metadata": {},
   "outputs": [
    {
     "name": "stdout",
     "output_type": "stream",
     "text": [
      "[10, 20, 40, 100]\n",
      "[37, 89]\n"
     ]
    }
   ],
   "source": [
    "numbers = [10,20,40,37,89,100]\n",
    "\n",
    "\n",
    "even =[]\n",
    "\n",
    "odd=[]\n",
    "\n",
    "for i in numbers:\n",
    "    if i%2==0:\n",
    "        even.append(i)\n",
    "    else:\n",
    "        odd.append(i)\n",
    "print(even)\n",
    "print(odd)\n",
    "\n",
    "\n"
   ]
  },
  {
   "cell_type": "code",
   "execution_count": null,
   "id": "5a008dd1-060f-4909-bfd4-16ab98e2fc82",
   "metadata": {},
   "outputs": [],
   "source": [
    "email database \n",
    "\n",
    "username exits\n",
    "username not available"
   ]
  },
  {
   "cell_type": "code",
   "execution_count": null,
   "id": "209c483e-d762-4da5-8135-08a5436ce076",
   "metadata": {},
   "outputs": [],
   "source": [
    "email = ['bob@gmail.com','sam@gmail.com','paul@gmail.com']\n",
    "\n",
    "\n",
    "1, add email in the list\n",
    "2, check email id is available"
   ]
  },
  {
   "cell_type": "raw",
   "id": "cd0207e4-c405-467a-8ae8-b9216b7d38c3",
   "metadata": {},
   "source": [
    "Python Collections (Arrays)\n",
    "\n",
    "There are four collection data types in the Python programming language:\n",
    "\n",
    "    List is a collection which is ordered and changeable. Allows duplicate members.\n",
    "    Tuple is a collection which is ordered and unchangeable. Allows duplicate members.\n",
    "    Set is a collection which is unordered, unchangeable*, and unindexed. No duplicate members.\n",
    "    Dictionary is a collection which is ordered** and changeable. No duplicate members.\n"
   ]
  },
  {
   "cell_type": "code",
   "execution_count": null,
   "id": "6546e661-21e1-4484-9389-6c5a1df5cad8",
   "metadata": {},
   "outputs": [],
   "source": [
    "tuple  - ()"
   ]
  },
  {
   "cell_type": "code",
   "execution_count": 39,
   "id": "91480e48-d6d6-4402-9689-eb3616dd6080",
   "metadata": {},
   "outputs": [
    {
     "name": "stdout",
     "output_type": "stream",
     "text": [
      "(1, 2, 3, 4, 'a', 'b')\n",
      "<class 'tuple'>\n",
      "6\n"
     ]
    }
   ],
   "source": [
    "a=(1,2,3,4,'a','b')\n",
    "print(a)\n",
    "print(type(a))\n",
    "print(len(a))"
   ]
  },
  {
   "cell_type": "code",
   "execution_count": 40,
   "id": "5f10e49b-3e0b-41ce-a5a9-f14b4e93f1c4",
   "metadata": {},
   "outputs": [
    {
     "name": "stdout",
     "output_type": "stream",
     "text": [
      "1\n",
      "2\n",
      "3\n",
      "4\n",
      "a\n",
      "b\n"
     ]
    }
   ],
   "source": [
    "for i in a:\n",
    "    print(i)"
   ]
  },
  {
   "cell_type": "code",
   "execution_count": 41,
   "id": "f4e17304-0296-44e1-8c26-326da9ca15f3",
   "metadata": {},
   "outputs": [
    {
     "name": "stdout",
     "output_type": "stream",
     "text": [
      "yes\n"
     ]
    }
   ],
   "source": [
    "if \"b\" in a:\n",
    "    print('yes')\n",
    "else:\n",
    "    print('no')"
   ]
  },
  {
   "cell_type": "code",
   "execution_count": 42,
   "id": "2766f4e8-70cf-407d-ae8e-ce1b4c5b694c",
   "metadata": {},
   "outputs": [
    {
     "data": {
      "text/plain": [
       "['__add__',\n",
       " '__class__',\n",
       " '__class_getitem__',\n",
       " '__contains__',\n",
       " '__delattr__',\n",
       " '__dir__',\n",
       " '__doc__',\n",
       " '__eq__',\n",
       " '__format__',\n",
       " '__ge__',\n",
       " '__getattribute__',\n",
       " '__getitem__',\n",
       " '__getnewargs__',\n",
       " '__getstate__',\n",
       " '__gt__',\n",
       " '__hash__',\n",
       " '__init__',\n",
       " '__init_subclass__',\n",
       " '__iter__',\n",
       " '__le__',\n",
       " '__len__',\n",
       " '__lt__',\n",
       " '__mul__',\n",
       " '__ne__',\n",
       " '__new__',\n",
       " '__reduce__',\n",
       " '__reduce_ex__',\n",
       " '__repr__',\n",
       " '__rmul__',\n",
       " '__setattr__',\n",
       " '__sizeof__',\n",
       " '__str__',\n",
       " '__subclasshook__',\n",
       " 'count',\n",
       " 'index']"
      ]
     },
     "execution_count": 42,
     "metadata": {},
     "output_type": "execute_result"
    }
   ],
   "source": [
    "dir(tuple)"
   ]
  },
  {
   "cell_type": "code",
   "execution_count": 44,
   "id": "a71ef521-c8b1-4b41-a21e-35e379d918e7",
   "metadata": {},
   "outputs": [
    {
     "data": {
      "text/plain": [
       "1"
      ]
     },
     "execution_count": 44,
     "metadata": {},
     "output_type": "execute_result"
    }
   ],
   "source": [
    "a=(10,20,30,50,60,70,80)\n",
    "\n",
    "a.index(20)\n",
    "\n",
    "a.count(30)"
   ]
  },
  {
   "cell_type": "code",
   "execution_count": 45,
   "id": "d2551bc5-eca8-4abd-9ad3-a5c705b9f817",
   "metadata": {},
   "outputs": [
    {
     "ename": "AttributeError",
     "evalue": "'tuple' object has no attribute 'append'",
     "output_type": "error",
     "traceback": [
      "\u001b[1;31m--------------------------------------------------------------------------\u001b[0m",
      "\u001b[1;31mAttributeError\u001b[0m                           Traceback (most recent call last)",
      "Cell \u001b[1;32mIn[45], line 1\u001b[0m\n\u001b[1;32m----> 1\u001b[0m a\u001b[38;5;241m.\u001b[39mappend(\u001b[38;5;241m43\u001b[39m)\n\u001b[0;32m      3\u001b[0m a\n",
      "\u001b[1;31mAttributeError\u001b[0m: 'tuple' object has no attribute 'append'"
     ]
    }
   ],
   "source": [
    "a.append(43)\n",
    "\n",
    "a\n"
   ]
  },
  {
   "cell_type": "code",
   "execution_count": 46,
   "id": "218da7e1-f184-45e7-a83a-f340a43e3152",
   "metadata": {},
   "outputs": [
    {
     "ename": "AttributeError",
     "evalue": "'tuple' object has no attribute 'pop'",
     "output_type": "error",
     "traceback": [
      "\u001b[1;31m--------------------------------------------------------------------------\u001b[0m",
      "\u001b[1;31mAttributeError\u001b[0m                           Traceback (most recent call last)",
      "Cell \u001b[1;32mIn[46], line 1\u001b[0m\n\u001b[1;32m----> 1\u001b[0m a\u001b[38;5;241m.\u001b[39mpop()\n\u001b[0;32m      3\u001b[0m a\n",
      "\u001b[1;31mAttributeError\u001b[0m: 'tuple' object has no attribute 'pop'"
     ]
    }
   ],
   "source": [
    "a.pop()\n",
    "\n",
    "a"
   ]
  },
  {
   "cell_type": "code",
   "execution_count": null,
   "id": "faf30352-ebfd-4531-a298-26493e0eacdc",
   "metadata": {},
   "outputs": [],
   "source": [
    "typecasting - change from one type to another type"
   ]
  },
  {
   "cell_type": "code",
   "execution_count": 49,
   "id": "82d4b9eb-07f1-44c8-9b61-5a7bdeb79dea",
   "metadata": {},
   "outputs": [
    {
     "name": "stdout",
     "output_type": "stream",
     "text": [
      "<class 'tuple'>\n",
      "6\n",
      "[10, 20, 30, 50, 60, 70, 80]\n",
      "(10, 20, 30, 50, 60, 70, 80)\n"
     ]
    }
   ],
   "source": [
    "a=(10,20,30,50,60,70)\n",
    "\n",
    "print(type(a))\n",
    "print(len(a))\n",
    "\n",
    "b=list(a)\n",
    "\n",
    "b.append(80)\n",
    "print(b)\n",
    "\n",
    "a=tuple(b)\n",
    "print(a)"
   ]
  },
  {
   "cell_type": "code",
   "execution_count": null,
   "id": "6e0ed986-2da4-4cdd-8721-de9e258d17e0",
   "metadata": {},
   "outputs": [],
   "source": [
    "nested list and nested tuple"
   ]
  },
  {
   "cell_type": "code",
   "execution_count": 56,
   "id": "07e9a451-c05c-4e90-a6d9-23900c5a9bca",
   "metadata": {},
   "outputs": [
    {
     "name": "stdout",
     "output_type": "stream",
     "text": [
      "10\n",
      "40\n",
      "[50, 60, [70, 80]]\n",
      "50\n",
      "60\n",
      "[70, 80]\n",
      "70\n"
     ]
    }
   ],
   "source": [
    "#               0  1   2\n",
    "a=[10,20,30,40,[50,60,[70,80]]]\n",
    "#  0   1  2  3  4\n",
    "print(a[0])\n",
    "print(a[3])\n",
    "print(a[4])\n",
    "print(a[4][0])\n",
    "print(a[4][1])\n",
    "print(a[4][2])\n",
    "print(a[4][2][0])"
   ]
  },
  {
   "cell_type": "code",
   "execution_count": 60,
   "id": "8982cd7e-dbf3-40ee-9878-c6197a120cdd",
   "metadata": {},
   "outputs": [
    {
     "name": "stdout",
     "output_type": "stream",
     "text": [
      "[10, 20, 30, 40, [50, 60, [70, 80]], 100]\n",
      "5\n"
     ]
    }
   ],
   "source": [
    "#               0  1   2\n",
    "a=[10,20,30,40,[50,60,[70,80]]]\n",
    "#  0   1  2  3  4\n",
    "\n",
    "a.append(100)\n",
    "\n",
    "print(a)\n",
    "\n",
    "print(a.index(100))"
   ]
  },
  {
   "cell_type": "code",
   "execution_count": 61,
   "id": "fe489935-5fa6-442b-be42-3540a0e9c0bc",
   "metadata": {},
   "outputs": [
    {
     "data": {
      "text/plain": [
       "[10, 20, 30, 40, [50, 60, [65, 70, 80]], 100]"
      ]
     },
     "execution_count": 61,
     "metadata": {},
     "output_type": "execute_result"
    }
   ],
   "source": [
    "a[4][2].insert(0,65)\n",
    "a"
   ]
  },
  {
   "cell_type": "code",
   "execution_count": null,
   "id": "dd47e5b5-9b19-4bc7-9501-4d96bc31d82e",
   "metadata": {},
   "outputs": [],
   "source": [
    "nested tuple\n"
   ]
  },
  {
   "cell_type": "code",
   "execution_count": 62,
   "id": "ed942d4c-624c-49dd-a2c1-292eb5fb6b62",
   "metadata": {},
   "outputs": [
    {
     "data": {
      "text/plain": [
       "(1, 2, 3, (4, 5, (6, 7)))"
      ]
     },
     "execution_count": 62,
     "metadata": {},
     "output_type": "execute_result"
    }
   ],
   "source": [
    "a=(1,2,3,(4,5,(6,7)))\n",
    "\n",
    "a"
   ]
  },
  {
   "cell_type": "code",
   "execution_count": null,
   "id": "dd23a66b-d4e8-4567-9d82-a1d2ef2bb09b",
   "metadata": {},
   "outputs": [],
   "source": []
  },
  {
   "cell_type": "code",
   "execution_count": null,
   "id": "a6def1a2-f554-4690-8fd6-c0c4a1e0bccf",
   "metadata": {},
   "outputs": [],
   "source": []
  },
  {
   "cell_type": "code",
   "execution_count": null,
   "id": "1c6137c2-1e73-4e06-9c37-297389837f6c",
   "metadata": {},
   "outputs": [],
   "source": []
  },
  {
   "cell_type": "code",
   "execution_count": null,
   "id": "cec94f1c-c02c-4966-ad7c-a8b77d3862af",
   "metadata": {},
   "outputs": [],
   "source": []
  }
 ],
 "metadata": {
  "kernelspec": {
   "display_name": "Python 3 (ipykernel)",
   "language": "python",
   "name": "python3"
  },
  "language_info": {
   "codemirror_mode": {
    "name": "ipython",
    "version": 3
   },
   "file_extension": ".py",
   "mimetype": "text/x-python",
   "name": "python",
   "nbconvert_exporter": "python",
   "pygments_lexer": "ipython3",
   "version": "3.12.4"
  }
 },
 "nbformat": 4,
 "nbformat_minor": 5
}
