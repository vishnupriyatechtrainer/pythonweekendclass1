{
 "cells": [
  {
   "cell_type": "code",
   "execution_count": 1,
   "id": "8850ea7d-e627-42c8-ad4c-b2b4d877eff7",
   "metadata": {},
   "outputs": [
    {
     "name": "stdout",
     "output_type": "stream",
     "text": [
      "{\"name\": \"john\", \"age\": 30, \"city\": \"new york\"}\n"
     ]
    }
   ],
   "source": [
    "import json # dictionary to json\n",
    "\n",
    "data ={\n",
    "\n",
    "    \"name\":\"john\",\n",
    "    \"age\":30,\n",
    "    \"city\":\"new york\"\n",
    "}\n",
    "\n",
    "\n",
    "json_data = json.dumps(data)\n",
    "print(json_data)\n",
    "\n"
   ]
  },
  {
   "cell_type": "code",
   "execution_count": 5,
   "id": "4ccbd544-563f-4361-9466-669d56dca3d8",
   "metadata": {},
   "outputs": [
    {
     "name": "stdout",
     "output_type": "stream",
     "text": [
      "john 30 newyork\n",
      "sam 24 chicago\n",
      "bob 89 london\n",
      "paul 45 australia\n",
      "alice 30 china\n"
     ]
    }
   ],
   "source": [
    "import json \n",
    "\n",
    "json_data ='''[\n",
    "{\"name\":\"john\",\"age\":30,\"city\":\"newyork\"}, \n",
    "{\"name\":\"sam\",\"age\":24,\"city\":\"chicago\"}, \n",
    "{\"name\":\"bob\",\"age\":89,\"city\":\"london\"},\n",
    "{\"name\":\"paul\",\"age\":45,\"city\":\"australia\"}, \n",
    "{\"name\":\"alice\",\"age\":30,\"city\":\"china\"} \n",
    "]'''\n",
    "\n",
    "\n",
    "data =json.loads(json_data)\n",
    "\n",
    "for item in data:\n",
    "    print(item['name'],item['age'],item['city'])\n",
    "\n",
    "\n",
    "\n",
    "# print('john')"
   ]
  },
  {
   "cell_type": "code",
   "execution_count": 7,
   "id": "e0b01077-d4c0-4e8b-b264-06ccabe4ce52",
   "metadata": {},
   "outputs": [
    {
     "name": "stdout",
     "output_type": "stream",
     "text": [
      "{'name': 'john', 'age': 30, 'city': 'newyork'}\n",
      "john\n"
     ]
    }
   ],
   "source": [
    "print(data[0])\n",
    "\n",
    "print(data[0]['name'])"
   ]
  },
  {
   "cell_type": "code",
   "execution_count": null,
   "id": "ff557511-defb-4ad7-a50e-97bee37353fa",
   "metadata": {},
   "outputs": [],
   "source": [
    "list comprehension "
   ]
  },
  {
   "cell_type": "code",
   "execution_count": 8,
   "id": "546587e9-0685-45be-9fa3-4ca9e88a130a",
   "metadata": {},
   "outputs": [
    {
     "name": "stdout",
     "output_type": "stream",
     "text": [
      "1\n",
      "4\n",
      "9\n",
      "16\n"
     ]
    }
   ],
   "source": [
    "numbers = [1,2,3,4]\n",
    "\n",
    "for i in numbers:\n",
    "    i=i**2\n",
    "    print(i)"
   ]
  },
  {
   "cell_type": "code",
   "execution_count": 12,
   "id": "a24528b0-3ec8-4062-9b32-b76ca3c46fab",
   "metadata": {},
   "outputs": [
    {
     "name": "stdout",
     "output_type": "stream",
     "text": [
      "[9, 16, 25]\n",
      "[3, 4, 5, 6, 7]\n"
     ]
    }
   ],
   "source": [
    "numbers = [1,2,3,4,5]\n",
    "\n",
    "\n",
    "'''[operation , list iteration , conditions]'''\n",
    "\n",
    "squares =[i**2 for i in numbers if i>2]\n",
    "print(squares)\n",
    "\n",
    "add =[i+2 for i in numbers]\n",
    "print(add)"
   ]
  },
  {
   "cell_type": "code",
   "execution_count": 17,
   "id": "6a579b4d-122f-4e99-b33a-0e5115ae4fc9",
   "metadata": {},
   "outputs": [
    {
     "data": {
      "text/plain": [
       "[89, 99]"
      ]
     },
     "execution_count": 17,
     "metadata": {},
     "output_type": "execute_result"
    }
   ],
   "source": [
    "numbers = [10,20,40,50,60,70,90,89,78,99]\n",
    "\n",
    "even =[i for i in numbers if i%2==0]\n",
    "\n",
    "even\n",
    "\n",
    "odd =[i for i in numbers if i%2!=0]\n",
    "odd"
   ]
  },
  {
   "cell_type": "code",
   "execution_count": 20,
   "id": "810e51ac-4225-4927-a7b4-5082a5c874af",
   "metadata": {},
   "outputs": [
    {
     "data": {
      "text/plain": [
       "[10]"
      ]
     },
     "execution_count": 20,
     "metadata": {},
     "output_type": "execute_result"
    }
   ],
   "source": [
    "numbers =[1,2,3,4,5,5,6,77,7,8,8,9,10]\n",
    "\n",
    "\n",
    "numberlist = [x for x in numbers if x%2==0 if x%5==0 ]\n",
    "numberlist"
   ]
  },
  {
   "cell_type": "code",
   "execution_count": null,
   "id": "238c15ed-47df-4b69-908c-954029d51fd3",
   "metadata": {},
   "outputs": [],
   "source": [
    "nested list comprehension"
   ]
  },
  {
   "cell_type": "code",
   "execution_count": 21,
   "id": "e17cd8c0-2005-42eb-b372-843111626d7b",
   "metadata": {},
   "outputs": [
    {
     "name": "stdout",
     "output_type": "stream",
     "text": [
      "[20, 30]\n"
     ]
    }
   ],
   "source": [
    "a=[10,20,30,50]\n",
    "b=[20,30,40]\n",
    "\n",
    "common_num=[]\n",
    "\n",
    "for i in a:\n",
    "    for j in b:\n",
    "        if i==j:\n",
    "            common_num.append(i)\n",
    "print(common_num)\n",
    "\n"
   ]
  },
  {
   "cell_type": "code",
   "execution_count": 22,
   "id": "146fd641-4ec0-4d04-9a5c-1273865e8092",
   "metadata": {},
   "outputs": [
    {
     "data": {
      "text/plain": [
       "[20, 30]"
      ]
     },
     "execution_count": 22,
     "metadata": {},
     "output_type": "execute_result"
    }
   ],
   "source": [
    "a=[10,20,30,50]\n",
    "b=[20,30,40]\n",
    "\n",
    "\n",
    "common_num=[i for i in a for j in b if i==j]\n",
    "common_num"
   ]
  },
  {
   "cell_type": "code",
   "execution_count": null,
   "id": "b76c03ed-1f8e-42ad-8227-e3d0b55e10e8",
   "metadata": {},
   "outputs": [],
   "source": [
    "dictionary comprehension"
   ]
  },
  {
   "cell_type": "code",
   "execution_count": 26,
   "id": "b4b4c47c-2031-477a-8625-137c430edf64",
   "metadata": {},
   "outputs": [
    {
     "name": "stdout",
     "output_type": "stream",
     "text": [
      "{'x': 2, 'y': 4, 'z': 6}\n",
      "{'y': 4}\n"
     ]
    }
   ],
   "source": [
    "d={\"x\":1,\"y\":2,\"z\":3}\n",
    "\n",
    "e={k:v*2 for (k,v) in d.items()}\n",
    "e1={k:v*2 for (k,v) in d.items() if v==2}\n",
    "\n",
    "print(e)\n",
    "print(e1)"
   ]
  },
  {
   "cell_type": "code",
   "execution_count": null,
   "id": "54ae8b39-97f1-4b36-93e1-065d0c309594",
   "metadata": {},
   "outputs": [],
   "source": []
  },
  {
   "cell_type": "code",
   "execution_count": null,
   "id": "0540bfc3-a0de-4882-aabc-2a882b4fadec",
   "metadata": {},
   "outputs": [],
   "source": []
  },
  {
   "cell_type": "code",
   "execution_count": null,
   "id": "b5a8e534-985d-4375-bff6-134775a6df00",
   "metadata": {},
   "outputs": [],
   "source": []
  }
 ],
 "metadata": {
  "kernelspec": {
   "display_name": "Python 3 (ipykernel)",
   "language": "python",
   "name": "python3"
  },
  "language_info": {
   "codemirror_mode": {
    "name": "ipython",
    "version": 3
   },
   "file_extension": ".py",
   "mimetype": "text/x-python",
   "name": "python",
   "nbconvert_exporter": "python",
   "pygments_lexer": "ipython3",
   "version": "3.12.4"
  }
 },
 "nbformat": 4,
 "nbformat_minor": 5
}
