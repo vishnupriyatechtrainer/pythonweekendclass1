{
 "cells": [
  {
   "cell_type": "code",
   "execution_count": null,
   "id": "f3f5fe3a-57a7-4e5c-b0c7-cb2d958dfd5d",
   "metadata": {},
   "outputs": [],
   "source": [
    "Python Collections (Arrays)\n",
    "\n",
    "There are four collection data types in the Python programming language:\n",
    "\n",
    "    List is a collection which is ordered and changeable. Allows duplicate members.\n",
    "    Tuple is a collection which is ordered and unchangeable. Allows duplicate members.\n",
    "    Set is a collection which is unordered, unchangeable*, and unindexed. No duplicate members.\n",
    "    Dictionary is a collection which is ordered** and changeable. No duplicate members.\n"
   ]
  },
  {
   "cell_type": "code",
   "execution_count": null,
   "id": "1a2050b8-ec91-432c-a75d-cdefcc728eb4",
   "metadata": {},
   "outputs": [],
   "source": [
    "set - {}\n"
   ]
  },
  {
   "cell_type": "code",
   "execution_count": 1,
   "id": "785b48e2-9100-46a2-b00d-7068e0408ae4",
   "metadata": {},
   "outputs": [
    {
     "name": "stdout",
     "output_type": "stream",
     "text": [
      "<class 'set'>\n",
      "5\n"
     ]
    }
   ],
   "source": [
    "a={10,20,40,50,60}\n",
    "\n",
    "print(type(a))\n",
    "print(len(a))"
   ]
  },
  {
   "cell_type": "code",
   "execution_count": 2,
   "id": "6c3f687e-99f1-49db-805f-eb639f0be799",
   "metadata": {},
   "outputs": [
    {
     "ename": "TypeError",
     "evalue": "'set' object is not subscriptable",
     "output_type": "error",
     "traceback": [
      "\u001b[1;31m--------------------------------------------------------------------------\u001b[0m",
      "\u001b[1;31mTypeError\u001b[0m                                Traceback (most recent call last)",
      "Cell \u001b[1;32mIn[2], line 1\u001b[0m\n\u001b[1;32m----> 1\u001b[0m \u001b[38;5;28mprint\u001b[39m(a[\u001b[38;5;241m0\u001b[39m])\n",
      "\u001b[1;31mTypeError\u001b[0m: 'set' object is not subscriptable"
     ]
    }
   ],
   "source": [
    "print(a[0])"
   ]
  },
  {
   "cell_type": "code",
   "execution_count": 3,
   "id": "9cb1c60f-d703-4373-9124-a98a0b005db4",
   "metadata": {},
   "outputs": [
    {
     "data": {
      "text/plain": [
       "{10, 20, 30, 40}"
      ]
     },
     "execution_count": 3,
     "metadata": {},
     "output_type": "execute_result"
    }
   ],
   "source": [
    "a={10,20,10,20,20,30,40}\n",
    "\n",
    "a"
   ]
  },
  {
   "cell_type": "code",
   "execution_count": 4,
   "id": "addf5548-5518-4d79-9b3f-c6cac0774934",
   "metadata": {},
   "outputs": [
    {
     "ename": "TypeError",
     "evalue": "unhashable type: 'list'",
     "output_type": "error",
     "traceback": [
      "\u001b[1;31m--------------------------------------------------------------------------\u001b[0m",
      "\u001b[1;31mTypeError\u001b[0m                                Traceback (most recent call last)",
      "Cell \u001b[1;32mIn[4], line 1\u001b[0m\n\u001b[1;32m----> 1\u001b[0m a\u001b[38;5;241m=\u001b[39m{\u001b[38;5;241m1\u001b[39m,[\u001b[38;5;241m2\u001b[39m,\u001b[38;5;241m3\u001b[39m,\u001b[38;5;241m5\u001b[39m],\u001b[38;5;241m45\u001b[39m,\u001b[38;5;241m6\u001b[39m}\n\u001b[0;32m      2\u001b[0m a\n",
      "\u001b[1;31mTypeError\u001b[0m: unhashable type: 'list'"
     ]
    }
   ],
   "source": [
    "a={1,[2,3,5],45,6}\n",
    "a"
   ]
  },
  {
   "cell_type": "code",
   "execution_count": 5,
   "id": "4b62ddea-42e2-4848-a76d-779199c029bf",
   "metadata": {},
   "outputs": [
    {
     "data": {
      "text/plain": [
       "{(2, 3), 1, 45, 5}"
      ]
     },
     "execution_count": 5,
     "metadata": {},
     "output_type": "execute_result"
    }
   ],
   "source": [
    "a={1,(2,3),45,5}\n",
    "a"
   ]
  },
  {
   "cell_type": "code",
   "execution_count": 7,
   "id": "ddc42237-6184-4e2a-8ebb-59309456db77",
   "metadata": {},
   "outputs": [
    {
     "data": {
      "text/plain": [
       "['__and__',\n",
       " '__class__',\n",
       " '__class_getitem__',\n",
       " '__contains__',\n",
       " '__delattr__',\n",
       " '__dir__',\n",
       " '__doc__',\n",
       " '__eq__',\n",
       " '__format__',\n",
       " '__ge__',\n",
       " '__getattribute__',\n",
       " '__getstate__',\n",
       " '__gt__',\n",
       " '__hash__',\n",
       " '__iand__',\n",
       " '__init__',\n",
       " '__init_subclass__',\n",
       " '__ior__',\n",
       " '__isub__',\n",
       " '__iter__',\n",
       " '__ixor__',\n",
       " '__le__',\n",
       " '__len__',\n",
       " '__lt__',\n",
       " '__ne__',\n",
       " '__new__',\n",
       " '__or__',\n",
       " '__rand__',\n",
       " '__reduce__',\n",
       " '__reduce_ex__',\n",
       " '__repr__',\n",
       " '__ror__',\n",
       " '__rsub__',\n",
       " '__rxor__',\n",
       " '__setattr__',\n",
       " '__sizeof__',\n",
       " '__str__',\n",
       " '__sub__',\n",
       " '__subclasshook__',\n",
       " '__xor__',\n",
       " 'add',\n",
       " 'clear',\n",
       " 'copy',\n",
       " 'difference',\n",
       " 'difference_update',\n",
       " 'discard',\n",
       " 'intersection',\n",
       " 'intersection_update',\n",
       " 'isdisjoint',\n",
       " 'issubset',\n",
       " 'issuperset',\n",
       " 'pop',\n",
       " 'remove',\n",
       " 'symmetric_difference',\n",
       " 'symmetric_difference_update',\n",
       " 'union',\n",
       " 'update']"
      ]
     },
     "execution_count": 7,
     "metadata": {},
     "output_type": "execute_result"
    }
   ],
   "source": [
    "dir(set)"
   ]
  },
  {
   "cell_type": "code",
   "execution_count": 8,
   "id": "2964bf0b-0293-4936-a9a3-4d52c2577f71",
   "metadata": {},
   "outputs": [
    {
     "name": "stdout",
     "output_type": "stream",
     "text": [
      "{50, 20, 55, 10, 60, 30}\n"
     ]
    }
   ],
   "source": [
    "a={10,20,30,50,60}\n",
    "\n",
    "a.add(55)\n",
    "print(a)"
   ]
  },
  {
   "cell_type": "code",
   "execution_count": 9,
   "id": "13865b7e-1b30-46a6-803e-053c6f3ea7a3",
   "metadata": {},
   "outputs": [
    {
     "name": "stdout",
     "output_type": "stream",
     "text": [
      "{304, 50, 20, 40, 10, 30}\n"
     ]
    }
   ],
   "source": [
    "a={10,20,30,40}\n",
    "b={20,304,50,}\n",
    "\n",
    "a.update(b)\n",
    "print(a)\n"
   ]
  },
  {
   "cell_type": "code",
   "execution_count": 10,
   "id": "299ec3f7-c821-44ca-bd57-bb5897af2ddb",
   "metadata": {},
   "outputs": [
    {
     "data": {
      "text/plain": [
       "{10, 30, 405}"
      ]
     },
     "execution_count": 10,
     "metadata": {},
     "output_type": "execute_result"
    }
   ],
   "source": [
    "a={10,20,30,405}\n",
    "\n",
    "a.remove(20)\n",
    "a"
   ]
  },
  {
   "cell_type": "code",
   "execution_count": 11,
   "id": "db760315-8b18-4068-b552-76ae61de5fb0",
   "metadata": {},
   "outputs": [
    {
     "ename": "TypeError",
     "evalue": "'set' object is not subscriptable",
     "output_type": "error",
     "traceback": [
      "\u001b[1;31m--------------------------------------------------------------------------\u001b[0m",
      "\u001b[1;31mTypeError\u001b[0m                                Traceback (most recent call last)",
      "Cell \u001b[1;32mIn[11], line 1\u001b[0m\n\u001b[1;32m----> 1\u001b[0m a\u001b[38;5;241m.\u001b[39mremove(a[\u001b[38;5;241m2\u001b[39m])\n\u001b[0;32m      2\u001b[0m a\n",
      "\u001b[1;31mTypeError\u001b[0m: 'set' object is not subscriptable"
     ]
    }
   ],
   "source": [
    "a.remove(a[2])\n",
    "a"
   ]
  },
  {
   "cell_type": "code",
   "execution_count": 12,
   "id": "d8bf7a8e-df28-4508-aa3c-5fa0d3340c9d",
   "metadata": {},
   "outputs": [
    {
     "ename": "KeyError",
     "evalue": "90",
     "output_type": "error",
     "traceback": [
      "\u001b[1;31m--------------------------------------------------------------------------\u001b[0m",
      "\u001b[1;31mKeyError\u001b[0m                                 Traceback (most recent call last)",
      "Cell \u001b[1;32mIn[12], line 3\u001b[0m\n\u001b[0;32m      1\u001b[0m a\u001b[38;5;241m=\u001b[39m{\u001b[38;5;241m10\u001b[39m,\u001b[38;5;241m20\u001b[39m,\u001b[38;5;241m30\u001b[39m,\u001b[38;5;241m40\u001b[39m,\u001b[38;5;241m60\u001b[39m,\u001b[38;5;241m70\u001b[39m}\n\u001b[1;32m----> 3\u001b[0m a\u001b[38;5;241m.\u001b[39mremove(\u001b[38;5;241m90\u001b[39m)\n\u001b[0;32m      5\u001b[0m a\n",
      "\u001b[1;31mKeyError\u001b[0m: 90"
     ]
    }
   ],
   "source": [
    "a={10,20,30,40,60,70}\n",
    "\n",
    "a.remove(90)\n",
    "\n",
    "a"
   ]
  },
  {
   "cell_type": "code",
   "execution_count": 13,
   "id": "0d0f55ce-65e7-4b3f-b489-642a14096e84",
   "metadata": {},
   "outputs": [
    {
     "data": {
      "text/plain": [
       "{10, 20, 30, 40, 60, 70}"
      ]
     },
     "execution_count": 13,
     "metadata": {},
     "output_type": "execute_result"
    }
   ],
   "source": [
    "a={10,20,30,40,60,70}\n",
    "\n",
    "a.discard(90)\n",
    "\n",
    "a"
   ]
  },
  {
   "cell_type": "code",
   "execution_count": 14,
   "id": "d429ff9f-a54e-450b-9a46-d821ac6ad520",
   "metadata": {},
   "outputs": [
    {
     "name": "stdout",
     "output_type": "stream",
     "text": [
      "{70, 10, 60, 30}\n"
     ]
    }
   ],
   "source": [
    "a={10,30,50,60,70}\n",
    "\n",
    "a.pop()\n",
    "print(a)"
   ]
  },
  {
   "cell_type": "code",
   "execution_count": 15,
   "id": "88b1fb3b-c448-4a6d-aad8-077fd9bb165d",
   "metadata": {},
   "outputs": [
    {
     "data": {
      "text/plain": [
       "set()"
      ]
     },
     "execution_count": 15,
     "metadata": {},
     "output_type": "execute_result"
    }
   ],
   "source": [
    "a={10,20,30,40,60}\n",
    "\n",
    "a.clear()\n",
    "a"
   ]
  },
  {
   "cell_type": "code",
   "execution_count": 17,
   "id": "0d4c30e9-7fbe-46e7-816c-ea94218183ae",
   "metadata": {},
   "outputs": [
    {
     "name": "stdout",
     "output_type": "stream",
     "text": [
      "50\n",
      "20\n",
      "40\n",
      "10\n",
      "60\n",
      "30\n"
     ]
    }
   ],
   "source": [
    "a={10,20,30,40,50,60}\n",
    "\n",
    "for i in a:\n",
    "    print(i)\n",
    "    "
   ]
  },
  {
   "cell_type": "code",
   "execution_count": 19,
   "id": "1cb76a9d-ac06-4ab8-890b-2e7ecc67524e",
   "metadata": {},
   "outputs": [
    {
     "name": "stdout",
     "output_type": "stream",
     "text": [
      "{'red', 'green', 'orange', 'blue', 'yellow'}\n"
     ]
    }
   ],
   "source": [
    "A ={'red','green','blue'}\n",
    "B={'yellow','red','orange','blue'}\n",
    "print(A.union(B))"
   ]
  },
  {
   "cell_type": "code",
   "execution_count": 20,
   "id": "70c8cd3b-56b1-461f-94c4-ad6057964f88",
   "metadata": {},
   "outputs": [
    {
     "name": "stdout",
     "output_type": "stream",
     "text": [
      "{'red', 'green', 'orange', 'blue', 'yellow'}\n"
     ]
    }
   ],
   "source": [
    "print(A | B)"
   ]
  },
  {
   "cell_type": "code",
   "execution_count": 23,
   "id": "766e5c76-4819-4848-b5ed-2d2b70e3a667",
   "metadata": {},
   "outputs": [
    {
     "name": "stdout",
     "output_type": "stream",
     "text": [
      "{'red', 'indigo', 'green', 'orange', 'purple', 'blue', 'yellow'}\n",
      "{'red', 'indigo', 'green', 'orange', 'purple', 'blue', 'yellow'}\n"
     ]
    }
   ],
   "source": [
    "A ={'red','green','blue'}\n",
    "B={'yellow','red','orange','blue'}\n",
    "C={'red','indigo','purple'}\n",
    "\n",
    "print(A.union(B,C))\n",
    "\n",
    "print(A|B|C)"
   ]
  },
  {
   "cell_type": "code",
   "execution_count": 26,
   "id": "05ed1944-61c4-4831-8a57-2f302e9cb8f4",
   "metadata": {},
   "outputs": [
    {
     "name": "stdout",
     "output_type": "stream",
     "text": [
      "{'red'}\n",
      "{'red'}\n"
     ]
    }
   ],
   "source": [
    "A ={'red','green','blue'}\n",
    "B={'yellow','red','orange','blue'}\n",
    "C={'red','indigo','purple'}\n",
    "\n",
    "print(A.intersection(B,C))\n",
    "\n",
    "print(A&B&C)"
   ]
  },
  {
   "cell_type": "code",
   "execution_count": 30,
   "id": "49593c0c-672b-4bcd-910d-5780a936f44e",
   "metadata": {},
   "outputs": [
    {
     "name": "stdout",
     "output_type": "stream",
     "text": [
      "{'red'}\n",
      "{'red'}\n"
     ]
    }
   ],
   "source": [
    "A= {'red','green','blue'}\n",
    "B={'yellow','red','orange'}\n",
    "\n",
    "A.intersection_update(B)\n",
    "print(A)\n",
    "\n",
    "\n",
    "A &= B\n",
    "print(A)"
   ]
  },
  {
   "cell_type": "code",
   "execution_count": 31,
   "id": "4cf1a5c5-0096-464f-8420-83e11d62851a",
   "metadata": {},
   "outputs": [
    {
     "name": "stdout",
     "output_type": "stream",
     "text": [
      "True\n"
     ]
    }
   ],
   "source": [
    "a={1,2,3}\n",
    "b={4,5,6}\n",
    "\n",
    "print(a.isdisjoint(b))\n"
   ]
  },
  {
   "cell_type": "code",
   "execution_count": 32,
   "id": "c9543274-2aa1-477a-b1b7-b34cf523beb7",
   "metadata": {},
   "outputs": [
    {
     "name": "stdout",
     "output_type": "stream",
     "text": [
      "True\n"
     ]
    }
   ],
   "source": [
    "a={1,2}\n",
    "b={1,2,3,4}\n",
    "\n",
    "print(a.issubset(b))\n"
   ]
  },
  {
   "cell_type": "code",
   "execution_count": 33,
   "id": "9314d066-5a61-4c8b-b547-0b5a9058b962",
   "metadata": {},
   "outputs": [
    {
     "name": "stdout",
     "output_type": "stream",
     "text": [
      "True\n"
     ]
    }
   ],
   "source": [
    "a={1,2}\n",
    "b={1,2,3,4}\n",
    "\n",
    "print(b.issuperset(a))\n"
   ]
  },
  {
   "cell_type": "code",
   "execution_count": 34,
   "id": "f470bdbb-2360-4bdb-9238-74d818a56a83",
   "metadata": {},
   "outputs": [
    {
     "name": "stdout",
     "output_type": "stream",
     "text": [
      "{1, 2}\n"
     ]
    }
   ],
   "source": [
    "a={1,2,3,4} # a-b = item only in a\n",
    "b={3,4,5}\n",
    "\n",
    "result = a.difference(b)\n",
    "print(result)"
   ]
  },
  {
   "cell_type": "code",
   "execution_count": 36,
   "id": "02b449f2-9b70-4c35-a40f-f0fae10e08fe",
   "metadata": {},
   "outputs": [
    {
     "data": {
      "text/plain": [
       "{1, 2}"
      ]
     },
     "execution_count": 36,
     "metadata": {},
     "output_type": "execute_result"
    }
   ],
   "source": [
    "a={1,2,3,4} \n",
    "b={3,4,5}\n",
    "\n",
    "a.difference_update(b)\n",
    "a"
   ]
  },
  {
   "cell_type": "code",
   "execution_count": 37,
   "id": "fb286777-6d55-46d7-bfc1-d35eaa5d1092",
   "metadata": {},
   "outputs": [
    {
     "name": "stdout",
     "output_type": "stream",
     "text": [
      "{1, 2, 4, 5}\n"
     ]
    }
   ],
   "source": [
    "a={1,2,3}\n",
    "b={3,4,5}\n",
    "\n",
    "result = a.symmetric_difference(b)\n",
    "print(result)"
   ]
  },
  {
   "cell_type": "code",
   "execution_count": null,
   "id": "fb11a7d5-a2f5-48ac-9f52-41ed5aed1813",
   "metadata": {},
   "outputs": [],
   "source": [
    "dictionary = {} - key : values - item \n"
   ]
  },
  {
   "cell_type": "code",
   "execution_count": 38,
   "id": "2e77dba5-0172-44ed-af44-7a1bd1ca0ff3",
   "metadata": {},
   "outputs": [
    {
     "name": "stdout",
     "output_type": "stream",
     "text": [
      "{'team': 'india', 'rank': 1, 'color': 'blue'}\n",
      "<class 'dict'>\n",
      "3\n"
     ]
    }
   ],
   "source": [
    "a={'team':'india','rank':1,'color':'blue'}\n",
    "\n",
    "a\n",
    "\n",
    "print(a)\n",
    "print(type(a))\n",
    "print(len(a))\n"
   ]
  },
  {
   "cell_type": "code",
   "execution_count": 39,
   "id": "f5f6e23f-7aed-4632-824d-0e9a58c86cf3",
   "metadata": {},
   "outputs": [
    {
     "name": "stdout",
     "output_type": "stream",
     "text": [
      "india\n"
     ]
    }
   ],
   "source": [
    "print(a['team'])"
   ]
  },
  {
   "cell_type": "code",
   "execution_count": 40,
   "id": "28d7d510-15e2-444b-9abf-577c01de787e",
   "metadata": {},
   "outputs": [
    {
     "ename": "KeyError",
     "evalue": "'s'",
     "output_type": "error",
     "traceback": [
      "\u001b[1;31m--------------------------------------------------------------------------\u001b[0m",
      "\u001b[1;31mKeyError\u001b[0m                                 Traceback (most recent call last)",
      "Cell \u001b[1;32mIn[40], line 1\u001b[0m\n\u001b[1;32m----> 1\u001b[0m \u001b[38;5;28mprint\u001b[39m(a[\u001b[38;5;124m'\u001b[39m\u001b[38;5;124ms\u001b[39m\u001b[38;5;124m'\u001b[39m])\n",
      "\u001b[1;31mKeyError\u001b[0m: 's'"
     ]
    }
   ],
   "source": [
    "print(a['s'])"
   ]
  },
  {
   "cell_type": "code",
   "execution_count": 41,
   "id": "7ecaf712-aa57-4cfa-93ec-24ee69526349",
   "metadata": {},
   "outputs": [
    {
     "name": "stdout",
     "output_type": "stream",
     "text": [
      "india\n"
     ]
    }
   ],
   "source": [
    "print(a.get('team'))"
   ]
  },
  {
   "cell_type": "code",
   "execution_count": 42,
   "id": "d20b5061-c990-42b8-996f-74d286ce34d0",
   "metadata": {},
   "outputs": [
    {
     "name": "stdout",
     "output_type": "stream",
     "text": [
      "None\n"
     ]
    }
   ],
   "source": [
    "print(a.get('s'))"
   ]
  },
  {
   "cell_type": "code",
   "execution_count": 43,
   "id": "ab9c916c-724c-443b-beff-a8db7fac3985",
   "metadata": {},
   "outputs": [
    {
     "name": "stdout",
     "output_type": "stream",
     "text": [
      "{'team': 'india', 'rank': 1, 'color': 'blue', 'board': 'BCCI'}\n",
      "4\n"
     ]
    }
   ],
   "source": [
    "a={'team':'india','rank':1,'color':'blue'}\n",
    "\n",
    "\n",
    "a['board'] ='BCCI'\n",
    "\n",
    "print(a)\n",
    "print(len(a))"
   ]
  },
  {
   "cell_type": "code",
   "execution_count": 44,
   "id": "07267ee3-0c5d-410c-b464-33d7cbf43761",
   "metadata": {},
   "outputs": [
    {
     "data": {
      "text/plain": [
       "['__class__',\n",
       " '__class_getitem__',\n",
       " '__contains__',\n",
       " '__delattr__',\n",
       " '__delitem__',\n",
       " '__dir__',\n",
       " '__doc__',\n",
       " '__eq__',\n",
       " '__format__',\n",
       " '__ge__',\n",
       " '__getattribute__',\n",
       " '__getitem__',\n",
       " '__getstate__',\n",
       " '__gt__',\n",
       " '__hash__',\n",
       " '__init__',\n",
       " '__init_subclass__',\n",
       " '__ior__',\n",
       " '__iter__',\n",
       " '__le__',\n",
       " '__len__',\n",
       " '__lt__',\n",
       " '__ne__',\n",
       " '__new__',\n",
       " '__or__',\n",
       " '__reduce__',\n",
       " '__reduce_ex__',\n",
       " '__repr__',\n",
       " '__reversed__',\n",
       " '__ror__',\n",
       " '__setattr__',\n",
       " '__setitem__',\n",
       " '__sizeof__',\n",
       " '__str__',\n",
       " '__subclasshook__',\n",
       " 'clear',\n",
       " 'copy',\n",
       " 'fromkeys',\n",
       " 'get',\n",
       " 'items',\n",
       " 'keys',\n",
       " 'pop',\n",
       " 'popitem',\n",
       " 'setdefault',\n",
       " 'update',\n",
       " 'values']"
      ]
     },
     "execution_count": 44,
     "metadata": {},
     "output_type": "execute_result"
    }
   ],
   "source": [
    "dir(dict)"
   ]
  },
  {
   "cell_type": "code",
   "execution_count": 46,
   "id": "5bd33f3f-869b-4db5-9640-426d9a3f346b",
   "metadata": {},
   "outputs": [
    {
     "data": {
      "text/plain": [
       "{}"
      ]
     },
     "execution_count": 46,
     "metadata": {},
     "output_type": "execute_result"
    }
   ],
   "source": [
    "a={'team':'india','rank':1,'color':'blue'}\n",
    "\n",
    "a.clear()\n",
    "a\n"
   ]
  },
  {
   "cell_type": "code",
   "execution_count": 48,
   "id": "f066f4fa-8afc-4f67-afbb-ee35b2b3a62b",
   "metadata": {},
   "outputs": [
    {
     "name": "stdout",
     "output_type": "stream",
     "text": [
      "{'team': 'india', 'rank': 1, 'color': 'blue', 'captain': 'kohli'}\n",
      "{'team': 'india', 'rank': 1, 'color': 'blue'}\n"
     ]
    }
   ],
   "source": [
    "\n",
    "a={'team':'india','rank':1,'color':'blue'}\n",
    "b=a.copy()\n",
    "a['captain']='kohli'\n",
    "print(a)\n",
    "print(b)\n",
    "\n"
   ]
  },
  {
   "cell_type": "code",
   "execution_count": 50,
   "id": "19224060-553f-4137-b63e-6bb5351a9c22",
   "metadata": {},
   "outputs": [
    {
     "name": "stdout",
     "output_type": "stream",
     "text": [
      "team\n",
      "rank\n",
      "color\n"
     ]
    }
   ],
   "source": [
    "a={'team':'india','rank':1,'color':'blue'}\n",
    "\n",
    "\n",
    "for i in a.keys():\n",
    "    print(i)"
   ]
  },
  {
   "cell_type": "code",
   "execution_count": 51,
   "id": "9abe4ed6-4740-49a3-981e-9f8ec5f64150",
   "metadata": {},
   "outputs": [
    {
     "name": "stdout",
     "output_type": "stream",
     "text": [
      "india\n",
      "1\n",
      "blue\n"
     ]
    }
   ],
   "source": [
    "for i in a.values():\n",
    "    print(i)"
   ]
  },
  {
   "cell_type": "code",
   "execution_count": 52,
   "id": "5dd8d2de-5851-44a9-a695-047711e48763",
   "metadata": {},
   "outputs": [
    {
     "name": "stdout",
     "output_type": "stream",
     "text": [
      "('team', 'india')\n",
      "('rank', 1)\n",
      "('color', 'blue')\n"
     ]
    }
   ],
   "source": [
    "for i in a.items():\n",
    "    print(i)"
   ]
  },
  {
   "cell_type": "code",
   "execution_count": 53,
   "id": "2bac19c0-971a-440e-b201-edeaf471af23",
   "metadata": {},
   "outputs": [
    {
     "name": "stdout",
     "output_type": "stream",
     "text": [
      "india\n",
      "1\n",
      "blue\n"
     ]
    }
   ],
   "source": [
    "for i in a:\n",
    "    print(a[i])\n",
    "\n"
   ]
  },
  {
   "cell_type": "code",
   "execution_count": 54,
   "id": "bb59b422-89ae-4466-9e07-7c448b89daca",
   "metadata": {},
   "outputs": [
    {
     "name": "stdout",
     "output_type": "stream",
     "text": [
      "team\n",
      "rank\n",
      "color\n"
     ]
    }
   ],
   "source": [
    "for i in a:\n",
    "    print(i)\n",
    "\n"
   ]
  },
  {
   "cell_type": "code",
   "execution_count": 56,
   "id": "4dd66860-9972-45da-96a2-12a3776525d9",
   "metadata": {},
   "outputs": [
    {
     "name": "stdout",
     "output_type": "stream",
     "text": [
      "['team', 'rank', 'color']\n"
     ]
    }
   ],
   "source": [
    "print(list(a.keys()))"
   ]
  },
  {
   "cell_type": "code",
   "execution_count": 57,
   "id": "5b3bd7d3-1d01-42bf-ab33-5e0a785156dc",
   "metadata": {},
   "outputs": [
    {
     "data": {
      "text/plain": [
       "{'bob': 28, 'smith': 90, 'john': 56}"
      ]
     },
     "execution_count": 57,
     "metadata": {},
     "output_type": "execute_result"
    }
   ],
   "source": [
    "keys = ['bob','smith','john']\n",
    "values=[28,90,56]\n",
    "\n",
    "x= dict(zip(keys,values))\n",
    "x\n"
   ]
  },
  {
   "cell_type": "code",
   "execution_count": 59,
   "id": "ec5931dd-852e-4711-9c86-a3eb834497b9",
   "metadata": {},
   "outputs": [
    {
     "data": {
      "text/plain": [
       "{'bob': 0, 'smith': 0, 'john': 0}"
      ]
     },
     "execution_count": 59,
     "metadata": {},
     "output_type": "execute_result"
    }
   ],
   "source": [
    "keys = ['bob','smith','john']\n",
    "values=0\n",
    "\n",
    "x= dict.fromkeys(keys,values)\n",
    "x\n"
   ]
  },
  {
   "cell_type": "code",
   "execution_count": 60,
   "id": "a6dd1bd7-11bf-40b9-a585-e9322ca18144",
   "metadata": {},
   "outputs": [
    {
     "data": {
      "text/plain": [
       "{'smith': 90, 'john': 56}"
      ]
     },
     "execution_count": 60,
     "metadata": {},
     "output_type": "execute_result"
    }
   ],
   "source": [
    "a={'bob': 28, 'smith': 90, 'john': 56}\n",
    "\n",
    "a.pop('bob')\n",
    "a"
   ]
  },
  {
   "cell_type": "code",
   "execution_count": 62,
   "id": "e9663d34-bafb-4b18-ab88-0a625abf23f4",
   "metadata": {},
   "outputs": [
    {
     "data": {
      "text/plain": [
       "{'bob': 28, 'smith': 90}"
      ]
     },
     "execution_count": 62,
     "metadata": {},
     "output_type": "execute_result"
    }
   ],
   "source": [
    "a={'bob': 28, 'smith': 90, 'john': 56}\n",
    "\n",
    "a.popitem()\n",
    "a"
   ]
  },
  {
   "cell_type": "code",
   "execution_count": 63,
   "id": "3b3322c1-fbaf-4eb5-a4ec-29fbc24c25f4",
   "metadata": {},
   "outputs": [
    {
     "name": "stdout",
     "output_type": "stream",
     "text": [
      "{'bob': 28, 'smith': 90, 'john': 56, 'paul': 45, 'sam': 90}\n"
     ]
    }
   ],
   "source": [
    "a={'bob': 28, 'smith': 90, 'john': 56}\n",
    "b={'paul':45,'sam':90}\n",
    "\n",
    "a.update(b)\n",
    "print(a)\n"
   ]
  },
  {
   "cell_type": "code",
   "execution_count": 65,
   "id": "6bd7068f-3ab0-4ef3-a097-0511ed7bb8e2",
   "metadata": {},
   "outputs": [
    {
     "data": {
      "text/plain": [
       "{'bob': 28, 'smith': 90, 'john': 56}"
      ]
     },
     "execution_count": 65,
     "metadata": {},
     "output_type": "execute_result"
    }
   ],
   "source": [
    "a={'bob': 28, 'smith': 90, 'john': 56, 'john': 56}\n",
    "a"
   ]
  },
  {
   "cell_type": "code",
   "execution_count": null,
   "id": "7031daf8-3f31-4821-b100-d2f816b44c55",
   "metadata": {},
   "outputs": [],
   "source": [
    "json = list + dictionary = [] + {}"
   ]
  },
  {
   "cell_type": "code",
   "execution_count": null,
   "id": "caa39102-36e3-4b3a-8300-202605326541",
   "metadata": {},
   "outputs": [],
   "source": []
  },
  {
   "cell_type": "code",
   "execution_count": null,
   "id": "3294127b-0538-4a40-9737-f04cb062468e",
   "metadata": {},
   "outputs": [],
   "source": []
  },
  {
   "cell_type": "code",
   "execution_count": null,
   "id": "0f7dcf72-0315-4598-bafd-90e80907ff9e",
   "metadata": {},
   "outputs": [],
   "source": []
  }
 ],
 "metadata": {
  "kernelspec": {
   "display_name": "Python 3 (ipykernel)",
   "language": "python",
   "name": "python3"
  },
  "language_info": {
   "codemirror_mode": {
    "name": "ipython",
    "version": 3
   },
   "file_extension": ".py",
   "mimetype": "text/x-python",
   "name": "python",
   "nbconvert_exporter": "python",
   "pygments_lexer": "ipython3",
   "version": "3.12.4"
  }
 },
 "nbformat": 4,
 "nbformat_minor": 5
}
